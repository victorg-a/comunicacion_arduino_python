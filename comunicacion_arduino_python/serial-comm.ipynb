{
 "cells": [
  {
   "cell_type": "markdown",
   "id": "6b4a548f",
   "metadata": {},
   "source": [
    "# serial-comm: comunicación y registro de datos por puerto serial\n",
    "Autor: Claudio Morales D.<br>\n",
    "https://github.com/cmoralesd/serial-comm <br>\n",
    "Otoño 2023<br>\n",
    "<br>\n",
    "Código base para establecer comunicación por puerto serial entre un dispositivo Arduino (o similar) y un script de Python, utilizando la librería **pyserial**, controlar entradas y salidas del módulo Arduino mediante valores numéricos intercambiados en formato de texto, registrar datos en un archivo CSV, procesar los datos utilizando las herramientas básicas de la librería **pandas** y obtener gráficos de los datos registrados utilizando **matplotlib.pyplot**.\n",
    "\n",
    "Para comprender las características generales de la comunicación serial, consulte: https://hetpro-store.com/TUTORIALES/puerto-serial/\n",
    "\n",
    "Los archivos para programación del módulo Arduino se encuentran en https://github.com/cmoralesd/serial-comm\n"
   ]
  },
  {
   "cell_type": "code",
   "execution_count": 42,
   "id": "d642818d",
   "metadata": {},
   "outputs": [],
   "source": [
    "# librerías requeridas\n",
    "import serial  # librería pyserial, para comunicación con los puertos serial < pip install pyserial >\n",
    "import time    # para el manejo de eventos de tiempo, nativa de Python\n",
    "import pandas as pd  # para el manejo de archivos de datos < pip install pandas >\n",
    "import matplotlib.pyplot as plt # para realizar gráficos < pip install matplotlib >\n",
    "\n",
    "\n",
    "# funciones para enviar y recibir mensajes en formato de texto, codificado en UTF-8\n",
    "# los mensajes utilizan como terminador un caracter de final de línea '\\n'\n",
    "def encode_send(ser, texto):\n",
    "    enc = f'{texto}\\n'.encode('UTF-8')\n",
    "    ser.write(enc)\n",
    "\n",
    "def decode_response(ser):\n",
    "    message_from_serial = ser.readline()\n",
    "    res = message_from_serial[:-1].decode()\n",
    "    return res\n"
   ]
  },
  {
   "cell_type": "markdown",
   "id": "4a19c388",
   "metadata": {},
   "source": [
    "### 1. Código base en esquema request-response\n",
    "\n",
    "El esquema de comunicación utilizado es **maestro-esclavo** (master-slave) en modo **request-response** (requerimiento-respuesta): sólo un dispositivo puede iniciar la comunicación enviando un requerimiento y el otro dispositivo responde. \n",
    "\n",
    "En este caso, el script de Python siempre inicia la comunicación, con un mensaje de texto que contiene dos valores enteros separados por una coma (,). El dispositivo Arduino recibe el mensaje, lo procesa, y envía una respuesta.\n",
    "\n",
    "El código utilizado en Arduino es: **serial-comm.ino**"
   ]
  },
  {
   "cell_type": "code",
   "execution_count": 43,
   "id": "fb622889",
   "metadata": {},
   "outputs": [
    {
     "name": "stdout",
     "output_type": "stream",
     "text": [
      "enviado: 123,456\n",
      "recibido: Arduino OK\n",
      "el puerto se ha cerrado correctamente\n"
     ]
    }
   ],
   "source": [
    "# Esquema básico para request-response\n",
    "# El código utilizado en Arduino es: serial-comm.ino\n",
    "\n",
    "# 1. Inicializa el puerto de comunicación y espera a que esté listo\n",
    "serialport = serial.Serial('COM7', 9600)\n",
    "time.sleep(0.5)   # tiempo de espera recomendado: 100 ms\n",
    "\n",
    "# 2. Preparamos el mensaje a ser transmitido\n",
    "val_0 = 123\n",
    "val_1 = 456\n",
    "message_to_serial = str(val_0) + ',' + str(val_1)\n",
    "\n",
    "# 3. Enviamos al puerto y esperamos la respuesta\n",
    "encode_send(serialport, message_to_serial)\n",
    "message_from_serial = decode_response(serialport)\n",
    "\n",
    "# 4. Procesamos la respuesta\n",
    "print(f'enviado: {message_to_serial}')\n",
    "print(f'recibido: {message_from_serial}')\n",
    "\n",
    "# 5. Cierra el puerto serial\n",
    "serialport.close()\n",
    "print('el puerto se ha cerrado correctamente')\n"
   ]
  },
  {
   "cell_type": "markdown",
   "id": "d9ea8df7",
   "metadata": {},
   "source": [
    "### 2. Enviando mensajes en forma cíclica\n",
    "\n",
    "El código utilizado en Arduino es: **serial-comm.ino**"
   ]
  },
  {
   "cell_type": "code",
   "execution_count": 44,
   "id": "ad6b0632",
   "metadata": {},
   "outputs": [],
   "source": [
    "serialport.close()"
   ]
  },
  {
   "cell_type": "code",
   "execution_count": 45,
   "id": "b356898e",
   "metadata": {},
   "outputs": [
    {
     "data": {
      "text/plain": [
       "449460.3338575"
      ]
     },
     "execution_count": 45,
     "metadata": {},
     "output_type": "execute_result"
    }
   ],
   "source": [
    "time.perf_counter()"
   ]
  },
  {
   "cell_type": "code",
   "execution_count": 46,
   "id": "1ce2f443",
   "metadata": {},
   "outputs": [
    {
     "name": "stdout",
     "output_type": "stream",
     "text": [
      "enviado: 0,0\n",
      "recibido: Arduino OK\n",
      "tiempo: 0.561702300037723\n",
      "enviado: 0,0\n",
      "recibido: 525;494\n",
      "tiempo: 0.800231300003361\n",
      "enviado: 0,0\n",
      "recibido: 525;494\n",
      "tiempo: 1.0386167000397108\n",
      "enviado: 0,0\n",
      "recibido: 525;494\n",
      "tiempo: 1.2776140000205487\n",
      "enviado: 0,0\n",
      "recibido: 525;494\n",
      "tiempo: 1.5158125000307336\n",
      "enviado: 0,0\n",
      "recibido: 525;494\n",
      "tiempo: 1.7537185000255704\n",
      "enviado: 0,0\n",
      "recibido: 525;494\n",
      "tiempo: 1.9921140000224113\n",
      "enviado: 0,0\n",
      "recibido: 525;494\n",
      "tiempo: 2.2314001000486314\n",
      "enviado: 0,0\n",
      "recibido: 525;494\n",
      "tiempo: 2.469444200047292\n",
      "enviado: 0,0\n",
      "recibido: 525;494\n",
      "tiempo: 2.7084139000508003\n",
      "enviado: 0,0\n",
      "recibido: 525;494\n",
      "tiempo: 2.9468015000456944\n",
      "enviado: 0,0\n",
      "recibido: 525;494\n",
      "tiempo: 3.1855620000278577\n",
      "enviado: 0,0\n",
      "recibido: 525;494\n",
      "tiempo: 3.42490630003158\n",
      "enviado: 0,0\n",
      "recibido: 525;494\n",
      "tiempo: 3.664232400013134\n",
      "enviado: 0,0\n",
      "recibido: 525;494\n",
      "tiempo: 3.9026338000549003\n",
      "enviado: 0,0\n",
      "recibido: 525;494\n",
      "tiempo: 4.1414183000451885\n",
      "enviado: 0,0\n",
      "recibido: 525;494\n",
      "tiempo: 4.380109700025059\n",
      "enviado: 0,0\n",
      "recibido: 525;494\n",
      "tiempo: 4.618035200051963\n",
      "enviado: 0,0\n",
      "recibido: 525;494\n",
      "tiempo: 4.85638100001961\n",
      "enviado: 0,0\n",
      "recibido: 525;494\n",
      "tiempo: 5.09521640004823\n",
      "el puerto se ha cerrado correctamente\n"
     ]
    }
   ],
   "source": [
    "# Esquema básico para comunicarse por puerto serial en forma cíclica\n",
    "# El código utilizado en Arduino es: serial-comm.ino\n",
    "\n",
    "# inicializa el puerto de comunicación y espera a que esté listo\n",
    "serialport = serial.Serial('COM7', 9600)\n",
    "time.sleep(0.1)   # tiempo de espera recomendado: 100 ms\n",
    "\n",
    "time_start = time.perf_counter()\n",
    "time_elapsed = time.perf_counter() - time_start\n",
    "time_stop = 5. #en segundos\n",
    "\n",
    "# inicia el ciclo de intercambio de datos\n",
    "\n",
    "\n",
    "while time_elapsed < time_stop:\n",
    "    # Preparamos el mensaje a ser transmitido\n",
    "    val_0 = 0\n",
    "    val_1 = 0\n",
    "    message_to_serial = str(val_0) + ',' + str(val_1)\n",
    "\n",
    "    # enviamos al puerto y esperamos la respuesta\n",
    "    encode_send(serialport, message_to_serial)\n",
    "    message_from_serial = decode_response(serialport)\n",
    "\n",
    "    # procesamos la respuesta\n",
    "    print(f'enviado: {message_to_serial}')\n",
    "    print(f'recibido: {message_from_serial}')\n",
    "\n",
    "    #actualizar la medición de tiempo\n",
    "    time_elapsed = time.perf_counter() - time_start\n",
    "    print(f'tiempo: {time_elapsed}')\n",
    "    time.sleep(0.2) # en segundos\n",
    "\n",
    "# cierra el puerto serial\n",
    "serialport.close()\n",
    "print('el puerto se ha cerrado correctamente')"
   ]
  },
  {
   "cell_type": "markdown",
   "id": "65f652e1",
   "metadata": {},
   "source": [
    "### 2. Controlando pines I/O en el dispositivo Arduino\n",
    "\n",
    "El código utilizado en Arduino es: **serial-control.ino**"
   ]
  },
  {
   "cell_type": "code",
   "execution_count": 47,
   "id": "bbbe291f",
   "metadata": {},
   "outputs": [],
   "source": [
    "serialport.close()"
   ]
  },
  {
   "cell_type": "code",
   "execution_count": 59,
   "id": "d9dfd2b3",
   "metadata": {},
   "outputs": [
    {
     "name": "stdout",
     "output_type": "stream",
     "text": [
      "enviado: 0,128\n",
      "val_x = 525\n",
      "val_y = 494\n",
      "el puerto se ha cerrado correctamente\n"
     ]
    }
   ],
   "source": [
    "# Esquema básico para control de pines I/O en modo request-response\n",
    "# El código utilizado en Arduino es: serial-comm.ino\n",
    "\n",
    "# 1. Inicializa el puerto de comunicación y espera a que esté listo\n",
    "serialport = serial.Serial('COM7', 9600)\n",
    "time.sleep(0.5)   # tiempo de espera recomendado: 100 ms\n",
    "\n",
    "# 2. Preparamos el mensaje a ser transmitido\n",
    "led_verde = 0    # 0 = apagado, otro valor = encendido\n",
    "led_rojo = 128     # nivel PWM entre 0 y 255\n",
    "message_to_serial = str(led_verde) + ',' + str(led_rojo)\n",
    "\n",
    "# 3. Enviamos al puerto y esperamos la respuesta\n",
    "encode_send(serialport, message_to_serial)\n",
    "message_from_serial = decode_response(serialport) #Primer mensaje es descartado (debido a que es un str/texto)\n",
    "\n",
    "encode_send(serialport, message_to_serial)\n",
    "message_from_serial = decode_response(serialport)\n",
    "\n",
    "\n",
    "# 4. Procesamos la respuesta\n",
    "print(f'enviado: {message_to_serial}')\n",
    "\n",
    "data = message_from_serial.split(';')\n",
    "val_x = int(data[0])\n",
    "val_y = int(data[1])\n",
    "print(f'val_x = {val_x}')\n",
    "print(f'val_y = {val_y}')\n",
    "\n",
    "# 5. Cierra el puerto serial\n",
    "\n",
    "serialport.close()\n",
    "print('el puerto se ha cerrado correctamente')\n",
    "\n"
   ]
  },
  {
   "cell_type": "markdown",
   "id": "f3155cff",
   "metadata": {},
   "source": [
    "### 4. Registrando datos recibidos desde el puerto serial\n",
    "\n",
    "El código utilizado en Arduino es: **serial-control.ino**"
   ]
  },
  {
   "cell_type": "code",
   "execution_count": 49,
   "id": "8bfd2b16",
   "metadata": {},
   "outputs": [
    {
     "data": {
      "text/plain": [
       "'dataset<07-06-23-21:40:41>.csv'"
      ]
     },
     "execution_count": 49,
     "metadata": {},
     "output_type": "execute_result"
    }
   ],
   "source": [
    "filename = 'dataset' + time.strftime('<%d-%m-%y-%H:%M:%S>') + '.csv'\n",
    "filename"
   ]
  },
  {
   "cell_type": "code",
   "execution_count": 60,
   "id": "36b3c901",
   "metadata": {},
   "outputs": [],
   "source": [
    "serialport.close()"
   ]
  },
  {
   "cell_type": "code",
   "execution_count": 61,
   "id": "ec5cc7c4",
   "metadata": {},
   "outputs": [
    {
     "name": "stdout",
     "output_type": "stream",
     "text": [
      "enviado: 1,255.0000101333329\n",
      "recibido: 525;494\n",
      "enviado: 1,255.20573213331713\n",
      "recibido: 525;494\n",
      "enviado: 1,255.24337469999833\n",
      "recibido: 526;494\n",
      "enviado: 1,255.28117589999843\n",
      "recibido: 526;494\n",
      "enviado: 1,255.3191137999917\n",
      "recibido: 526;494\n",
      "enviado: 1,255.356107799996\n",
      "recibido: 525;494\n",
      "enviado: 1,255.3923900333272\n",
      "recibido: 525;494\n",
      "enviado: 1,255.42949299999358\n",
      "recibido: 525;494\n",
      "enviado: 1,255.46717296666853\n",
      "recibido: 526;494\n",
      "enviado: 1,255.50495283332808\n",
      "recibido: 526;494\n",
      "enviado: 1,255.54264749999857\n",
      "recibido: 525;494\n",
      "enviado: 1,255.58052643332243\n",
      "recibido: 526;494\n",
      "enviado: 1,255.61860180000076\n",
      "recibido: 526;494\n",
      "enviado: 1,255.65641593333567\n",
      "recibido: 526;494\n",
      "enviado: 1,255.69404243332488\n",
      "recibido: 526;494\n",
      "enviado: 1,255.73191506665898\n",
      "recibido: 526;494\n",
      "enviado: 1,255.7696629666607\n",
      "recibido: 525;494\n",
      "enviado: 1,255.8066434999928\n",
      "recibido: 526;494\n",
      "enviado: 1,255.84360629999233\n",
      "recibido: 526;494\n",
      "enviado: 1,255.88130969998505\n",
      "recibido: 526;494\n",
      "enviado: 1,255.91898456666\n",
      "recibido: 526;494\n",
      "enviado: 1,255.954957799986\n",
      "recibido: 526;494\n",
      "enviado: 1,255.9912379333206\n",
      "recibido: 525;494\n",
      "el puerto se ha cerrado correctamente\n"
     ]
    }
   ],
   "source": [
    "# Registro de transacciones vía puerto serial\n",
    "# El código utilizado en Arduino es: serial-comm.ino\n",
    "\n",
    "# 1. Inicializa el puerto de comunicaciones\n",
    "serialport = serial.Serial('COM7', 9600)\n",
    "time.sleep(0.1) \n",
    "# 2. Inicializa el archivo de registro de datos\n",
    "filename = 'dataset' + time.strftime('%d-%m-%y-%H%M%S') + '.csv'\n",
    "with open(filename, 'w') as file:\n",
    "    file.write('tiempo,led_verde,led_rojo,val_x,val_y\\n')\n",
    "\n",
    "# 3. Registra las transacciones durante un periodo de tiempo especificado\n",
    "time_start = time.perf_counter()\n",
    "time_elapsed = time.perf_counter() - time_start\n",
    "time_stop = 3. #en segundos\n",
    "\n",
    "while time_elapsed < time_stop:\n",
    "    led_verde = 1    # 0 = apagado, otro valor = encendido\n",
    "    led_rojo = time_elapsed/time_stop + 255 # nivel PWM entre 0 y 255\n",
    "    message_to_serial = str(led_verde) + ',' + str(led_rojo)\n",
    "\n",
    "    # 3. Enviamos al puerto y esperamos la respuesta\n",
    "    encode_send(serialport, message_to_serial)\n",
    "    message_from_serial = decode_response(serialport)\n",
    "    encode_send(serialport, message_to_serial)\n",
    "    message_from_serial = decode_response(serialport)\n",
    "\n",
    "    data = message_from_serial.split(';')\n",
    "    val_x = int(data[0])\n",
    "    val_y = int(data[1])\n",
    "    print(f'enviado: {message_to_serial}')\n",
    "    print(f'recibido: {message_from_serial}')\n",
    "\n",
    "    with open(filename,'a')as file:\n",
    "        file.write(str(time_elapsed) + ',' + str(led_verde) + ',' +str(led_rojo) + ',' +str(val_x) + ','+ str(val_y) + '\\n')\n",
    "    time_elapsed = time.perf_counter() - time_start\n",
    "# 4. Cierra el puerto de comunicaciones\n",
    "serialport.close()\n",
    "print('el puerto se ha cerrado correctamente')"
   ]
  },
  {
   "cell_type": "code",
   "execution_count": 52,
   "id": "86453f5d",
   "metadata": {},
   "outputs": [
    {
     "data": {
      "text/plain": [
       "'dataset/07-06-23/21:40:44.csv'"
      ]
     },
     "execution_count": 52,
     "metadata": {},
     "output_type": "execute_result"
    }
   ],
   "source": [
    "filename = 'dataset/' + time.strftime('%d-%m-%y/%H:%M:%S') + '.csv'\n",
    "filename"
   ]
  },
  {
   "cell_type": "code",
   "execution_count": 62,
   "id": "f0873f75",
   "metadata": {},
   "outputs": [
    {
     "data": {
      "text/html": [
       "<div>\n",
       "<style scoped>\n",
       "    .dataframe tbody tr th:only-of-type {\n",
       "        vertical-align: middle;\n",
       "    }\n",
       "\n",
       "    .dataframe tbody tr th {\n",
       "        vertical-align: top;\n",
       "    }\n",
       "\n",
       "    .dataframe thead th {\n",
       "        text-align: right;\n",
       "    }\n",
       "</style>\n",
       "<table border=\"1\" class=\"dataframe\">\n",
       "  <thead>\n",
       "    <tr style=\"text-align: right;\">\n",
       "      <th></th>\n",
       "      <th>tiempo</th>\n",
       "      <th>led_verde</th>\n",
       "      <th>led_rojo</th>\n",
       "      <th>val_x</th>\n",
       "      <th>val_y</th>\n",
       "    </tr>\n",
       "  </thead>\n",
       "  <tbody>\n",
       "    <tr>\n",
       "      <th>0</th>\n",
       "      <td>0.000030</td>\n",
       "      <td>1</td>\n",
       "      <td>255.000010</td>\n",
       "      <td>525</td>\n",
       "      <td>494</td>\n",
       "    </tr>\n",
       "    <tr>\n",
       "      <th>1</th>\n",
       "      <td>0.617196</td>\n",
       "      <td>1</td>\n",
       "      <td>255.205732</td>\n",
       "      <td>525</td>\n",
       "      <td>494</td>\n",
       "    </tr>\n",
       "    <tr>\n",
       "      <th>2</th>\n",
       "      <td>0.730124</td>\n",
       "      <td>1</td>\n",
       "      <td>255.243375</td>\n",
       "      <td>526</td>\n",
       "      <td>494</td>\n",
       "    </tr>\n",
       "    <tr>\n",
       "      <th>3</th>\n",
       "      <td>0.843528</td>\n",
       "      <td>1</td>\n",
       "      <td>255.281176</td>\n",
       "      <td>526</td>\n",
       "      <td>494</td>\n",
       "    </tr>\n",
       "    <tr>\n",
       "      <th>4</th>\n",
       "      <td>0.957341</td>\n",
       "      <td>1</td>\n",
       "      <td>255.319114</td>\n",
       "      <td>526</td>\n",
       "      <td>494</td>\n",
       "    </tr>\n",
       "    <tr>\n",
       "      <th>5</th>\n",
       "      <td>1.068323</td>\n",
       "      <td>1</td>\n",
       "      <td>255.356108</td>\n",
       "      <td>525</td>\n",
       "      <td>494</td>\n",
       "    </tr>\n",
       "    <tr>\n",
       "      <th>6</th>\n",
       "      <td>1.177170</td>\n",
       "      <td>1</td>\n",
       "      <td>255.392390</td>\n",
       "      <td>525</td>\n",
       "      <td>494</td>\n",
       "    </tr>\n",
       "    <tr>\n",
       "      <th>7</th>\n",
       "      <td>1.288479</td>\n",
       "      <td>1</td>\n",
       "      <td>255.429493</td>\n",
       "      <td>525</td>\n",
       "      <td>494</td>\n",
       "    </tr>\n",
       "    <tr>\n",
       "      <th>8</th>\n",
       "      <td>1.401519</td>\n",
       "      <td>1</td>\n",
       "      <td>255.467173</td>\n",
       "      <td>526</td>\n",
       "      <td>494</td>\n",
       "    </tr>\n",
       "    <tr>\n",
       "      <th>9</th>\n",
       "      <td>1.514858</td>\n",
       "      <td>1</td>\n",
       "      <td>255.504953</td>\n",
       "      <td>526</td>\n",
       "      <td>494</td>\n",
       "    </tr>\n",
       "    <tr>\n",
       "      <th>10</th>\n",
       "      <td>1.627942</td>\n",
       "      <td>1</td>\n",
       "      <td>255.542647</td>\n",
       "      <td>525</td>\n",
       "      <td>494</td>\n",
       "    </tr>\n",
       "    <tr>\n",
       "      <th>11</th>\n",
       "      <td>1.741579</td>\n",
       "      <td>1</td>\n",
       "      <td>255.580526</td>\n",
       "      <td>526</td>\n",
       "      <td>494</td>\n",
       "    </tr>\n",
       "    <tr>\n",
       "      <th>12</th>\n",
       "      <td>1.855805</td>\n",
       "      <td>1</td>\n",
       "      <td>255.618602</td>\n",
       "      <td>526</td>\n",
       "      <td>494</td>\n",
       "    </tr>\n",
       "    <tr>\n",
       "      <th>13</th>\n",
       "      <td>1.969248</td>\n",
       "      <td>1</td>\n",
       "      <td>255.656416</td>\n",
       "      <td>526</td>\n",
       "      <td>494</td>\n",
       "    </tr>\n",
       "    <tr>\n",
       "      <th>14</th>\n",
       "      <td>2.082127</td>\n",
       "      <td>1</td>\n",
       "      <td>255.694042</td>\n",
       "      <td>526</td>\n",
       "      <td>494</td>\n",
       "    </tr>\n",
       "    <tr>\n",
       "      <th>15</th>\n",
       "      <td>2.195745</td>\n",
       "      <td>1</td>\n",
       "      <td>255.731915</td>\n",
       "      <td>526</td>\n",
       "      <td>494</td>\n",
       "    </tr>\n",
       "    <tr>\n",
       "      <th>16</th>\n",
       "      <td>2.308989</td>\n",
       "      <td>1</td>\n",
       "      <td>255.769663</td>\n",
       "      <td>525</td>\n",
       "      <td>494</td>\n",
       "    </tr>\n",
       "    <tr>\n",
       "      <th>17</th>\n",
       "      <td>2.419930</td>\n",
       "      <td>1</td>\n",
       "      <td>255.806643</td>\n",
       "      <td>526</td>\n",
       "      <td>494</td>\n",
       "    </tr>\n",
       "    <tr>\n",
       "      <th>18</th>\n",
       "      <td>2.530819</td>\n",
       "      <td>1</td>\n",
       "      <td>255.843606</td>\n",
       "      <td>526</td>\n",
       "      <td>494</td>\n",
       "    </tr>\n",
       "    <tr>\n",
       "      <th>19</th>\n",
       "      <td>2.643929</td>\n",
       "      <td>1</td>\n",
       "      <td>255.881310</td>\n",
       "      <td>526</td>\n",
       "      <td>494</td>\n",
       "    </tr>\n",
       "    <tr>\n",
       "      <th>20</th>\n",
       "      <td>2.756954</td>\n",
       "      <td>1</td>\n",
       "      <td>255.918985</td>\n",
       "      <td>526</td>\n",
       "      <td>494</td>\n",
       "    </tr>\n",
       "    <tr>\n",
       "      <th>21</th>\n",
       "      <td>2.864873</td>\n",
       "      <td>1</td>\n",
       "      <td>255.954958</td>\n",
       "      <td>526</td>\n",
       "      <td>494</td>\n",
       "    </tr>\n",
       "    <tr>\n",
       "      <th>22</th>\n",
       "      <td>2.973714</td>\n",
       "      <td>1</td>\n",
       "      <td>255.991238</td>\n",
       "      <td>525</td>\n",
       "      <td>494</td>\n",
       "    </tr>\n",
       "  </tbody>\n",
       "</table>\n",
       "</div>"
      ],
      "text/plain": [
       "      tiempo  led_verde    led_rojo  val_x  val_y\n",
       "0   0.000030          1  255.000010    525    494\n",
       "1   0.617196          1  255.205732    525    494\n",
       "2   0.730124          1  255.243375    526    494\n",
       "3   0.843528          1  255.281176    526    494\n",
       "4   0.957341          1  255.319114    526    494\n",
       "5   1.068323          1  255.356108    525    494\n",
       "6   1.177170          1  255.392390    525    494\n",
       "7   1.288479          1  255.429493    525    494\n",
       "8   1.401519          1  255.467173    526    494\n",
       "9   1.514858          1  255.504953    526    494\n",
       "10  1.627942          1  255.542647    525    494\n",
       "11  1.741579          1  255.580526    526    494\n",
       "12  1.855805          1  255.618602    526    494\n",
       "13  1.969248          1  255.656416    526    494\n",
       "14  2.082127          1  255.694042    526    494\n",
       "15  2.195745          1  255.731915    526    494\n",
       "16  2.308989          1  255.769663    525    494\n",
       "17  2.419930          1  255.806643    526    494\n",
       "18  2.530819          1  255.843606    526    494\n",
       "19  2.643929          1  255.881310    526    494\n",
       "20  2.756954          1  255.918985    526    494\n",
       "21  2.864873          1  255.954958    526    494\n",
       "22  2.973714          1  255.991238    525    494"
      ]
     },
     "execution_count": 62,
     "metadata": {},
     "output_type": "execute_result"
    }
   ],
   "source": [
    "df = pd.read_csv(filename)\n",
    "df"
   ]
  },
  {
   "cell_type": "code",
   "execution_count": 63,
   "id": "13d8c5d3",
   "metadata": {},
   "outputs": [
    {
     "data": {
      "image/png": "[encoded data removed]",
      "text/plain": [
       "<Figure size 640x480 with 1 Axes>"
      ]
     },
     "metadata": {},
     "output_type": "display_data"
    }
   ],
   "source": [
    "x = df['tiempo'].tolist()\n",
    "y=df['tiempo'].tolist()\n",
    "\n",
    "ax = plt.figure().add_subplot()\n",
    "ax.plot(x,y)\n",
    "ax.set_title('Grafico del tiempo')\n",
    "ax.set_ylabel('Tiempo')\n",
    "ax.set_xlabel('segundos')\n",
    "plt.show()"
   ]
  },
  {
   "cell_type": "code",
   "execution_count": 64,
   "id": "a86c010a",
   "metadata": {},
   "outputs": [
    {
     "data": {
      "image/png": "[encoded data removed]",
      "text/plain": [
       "<Figure size 640x480 with 1 Axes>"
      ]
     },
     "metadata": {},
     "output_type": "display_data"
    }
   ],
   "source": [
    "x = df['tiempo'].tolist()\n",
    "y=df['led_verde'].tolist()\n",
    "\n",
    "ax = plt.figure().add_subplot()\n",
    "ax.plot(x,y)\n",
    "ax.set_title('Grafico led verde')\n",
    "ax.set_ylabel('Tiempo')\n",
    "ax.set_xlabel('segundos')\n",
    "plt.show()"
   ]
  },
  {
   "cell_type": "code",
   "execution_count": 65,
   "id": "80f1618c",
   "metadata": {},
   "outputs": [
    {
     "data": {
      "image/png": "[encoded data removed]",
      "text/plain": [
       "<Figure size 640x480 with 1 Axes>"
      ]
     },
     "metadata": {},
     "output_type": "display_data"
    }
   ],
   "source": [
    "x = df['tiempo'].tolist()\n",
    "y=df['led_rojo'].tolist()\n",
    "\n",
    "ax = plt.figure().add_subplot()\n",
    "ax.plot(x,y)\n",
    "ax.set_title('Grafico led rojo')\n",
    "ax.set_ylabel('tiempo')\n",
    "ax.set_xlabel('segundos')\n",
    "plt.show()"
   ]
  },
  {
   "cell_type": "code",
   "execution_count": 77,
   "id": "cc40da51",
   "metadata": {},
   "outputs": [
    {
     "data": {
      "image/png": "[encoded data removed]",
      "text/plain": [
       "<Figure size 640x480 with 1 Axes>"
      ]
     },
     "metadata": {},
     "output_type": "display_data"
    }
   ],
   "source": [
    "x = df['tiempo'].tolist()\n",
    "y=df['val_x'].tolist()\n",
    "\n",
    "ax = plt.figure().add_subplot()\n",
    "ax.plot(x,y)\n",
    "ax.set_title('Grafico X')\n",
    "ax.set_ylabel('altura_max')\n",
    "ax.set_xlabel('segundos')\n",
    "plt.show()"
   ]
  },
  {
   "cell_type": "code",
   "execution_count": 74,
   "id": "9b6473e8",
   "metadata": {},
   "outputs": [
    {
     "data": {
      "image/png": "[encoded data removed]",
      "text/plain": [
       "<Figure size 640x480 with 1 Axes>"
      ]
     },
     "metadata": {},
     "output_type": "display_data"
    }
   ],
   "source": [
    "x = df['tiempo'].tolist()\n",
    "y=df['val_y'].tolist()\n",
    "\n",
    "ax = plt.figure().add_subplot()\n",
    "ax.plot(x,y)\n",
    "ax.set_title('Grafico Y')\n",
    "ax.set_ylabel('eje y')\n",
    "ax.set_xlabel('segundos')\n",
    "plt.show()"
   ]
  }
 ],
 "metadata": {
  "kernelspec": {
   "display_name": "Python 3",
   "language": "python",
   "name": "python3"
  },
  "language_info": {
   "codemirror_mode": {
    "name": "ipython",
    "version": 3
   },
   "file_extension": ".py",
   "mimetype": "text/x-python",
   "name": "python",
   "nbconvert_exporter": "python",
   "pygments_lexer": "ipython3",
   "version": "3.10.0"
  },
  "vscode": {
   "interpreter": {
    "hash": "5238573367df39f7286bb46f9ff5f08f63a01a80960060ce41e3c79b190280fa"
   }
  }
 },
 "nbformat": 4,
 "nbformat_minor": 5
}
